{
 "cells": [
  {
   "cell_type": "code",
   "execution_count": 65,
   "id": "b0efaef6",
   "metadata": {},
   "outputs": [],
   "source": [
    "import pandas as pd \n",
    "import numpy as np \n",
    "df = pd.read_csv('dataset/top504.csv')"
   ]
  },
  {
   "cell_type": "code",
   "execution_count": 66,
   "id": "6f40a7da",
   "metadata": {},
   "outputs": [],
   "source": [
    "# Mengurutkan lagu mulai dari yang nilai popularitasnya paling besar\n",
    "df_sorted = df.sort_values(by=\"popularity\", ascending=False)"
   ]
  },
  {
   "cell_type": "code",
   "execution_count": 67,
   "id": "3720e9f3",
   "metadata": {},
   "outputs": [],
   "source": [
    "def recs_cloudy():\n",
    "    return df_sorted[df_sorted.beats_per_minute <= 110]"
   ]
  },
  {
   "cell_type": "code",
   "execution_count": 68,
   "id": "bc2e7871",
   "metadata": {},
   "outputs": [],
   "source": [
    "def recs_windy():\n",
    "    return df_sorted[(df_sorted.beats_per_minute >= 111) & (df_sorted.beats_per_minute <= 137)]"
   ]
  },
  {
   "cell_type": "code",
   "execution_count": 69,
   "id": "be05480f",
   "metadata": {},
   "outputs": [],
   "source": [
    "def recs_rainy():\n",
    "    return df_sorted[(df_sorted.beats_per_minute >= 138) & (df_sorted.beats_per_minute <= 164)]"
   ]
  },
  {
   "cell_type": "code",
   "execution_count": 75,
   "id": "ae6935cb",
   "metadata": {},
   "outputs": [],
   "source": [
    "def recs_sunny():\n",
    "    return df_sorted[df_sorted.beats_per_minute >= 165]"
   ]
  },
  {
   "cell_type": "code",
   "execution_count": 85,
   "id": "63aeafb8",
   "metadata": {},
   "outputs": [],
   "source": [
    "def clean_input(weather):\n",
    "    return str.lower(weather).replace(\" \", \"\")"
   ]
  },
  {
   "cell_type": "code",
   "execution_count": 86,
   "id": "122bdc9c",
   "metadata": {},
   "outputs": [
    {
     "data": {
      "text/plain": [
       "'rainy'"
      ]
     },
     "execution_count": 86,
     "metadata": {},
     "output_type": "execute_result"
    }
   ],
   "source": [
    "clean_input('RAi ny')\n"
   ]
  },
  {
   "cell_type": "code",
   "execution_count": 89,
   "id": "649852e9",
   "metadata": {},
   "outputs": [
    {
     "ename": "SyntaxError",
     "evalue": "invalid syntax (3491084088.py, line 3)",
     "output_type": "error",
     "traceback": [
      "\u001b[1;36m  Input \u001b[1;32mIn [89]\u001b[1;36m\u001b[0m\n\u001b[1;33m    match weather:\u001b[0m\n\u001b[1;37m          ^\u001b[0m\n\u001b[1;31mSyntaxError\u001b[0m\u001b[1;31m:\u001b[0m invalid syntax\n"
     ]
    }
   ],
   "source": [
    "def get_recs(weather):\n",
    "    weather_cleaned = clean_input(weather)\n",
    "    if (weather_cleaned == 'sunny'):\n",
    "        return recs_sunny()\n",
    "    elif (weather_cleaned == 'windy'):\n",
    "        return recs_windy()\n",
    "    elif (weather_cleaned == 'cloudy'):\n",
    "        return recs_cloudy()\n",
    "    elif (weather_cleaned == 'rainy'):\n",
    "        return recs_rainy()\n",
    "    else:\n",
    "        return 'Silakan ulangi memasukkan cuaca.'"
   ]
  },
  {
   "cell_type": "code",
   "execution_count": null,
   "id": "1856317f",
   "metadata": {},
   "outputs": [],
   "source": []
  }
 ],
 "metadata": {
  "kernelspec": {
   "display_name": "Python 3 (ipykernel)",
   "language": "python",
   "name": "python3"
  },
  "language_info": {
   "codemirror_mode": {
    "name": "ipython",
    "version": 3
   },
   "file_extension": ".py",
   "mimetype": "text/x-python",
   "name": "python",
   "nbconvert_exporter": "python",
   "pygments_lexer": "ipython3",
   "version": "3.9.12"
  }
 },
 "nbformat": 4,
 "nbformat_minor": 5
}
