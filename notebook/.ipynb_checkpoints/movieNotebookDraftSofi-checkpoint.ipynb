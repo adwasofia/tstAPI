{
 "cells": [
  {
   "cell_type": "code",
   "execution_count": 65,
   "id": "b0efaef6",
   "metadata": {},
   "outputs": [],
   "source": [
    "import pandas as pd \n",
    "import numpy as np \n",
    "df = pd.read_csv('dataset/top504.csv')"
   ]
  },
  {
   "cell_type": "code",
   "execution_count": 66,
   "id": "e6ef1beb",
   "metadata": {},
   "outputs": [],
   "source": [
    "# Mengurutkan lagu mulai dari yang nilai popularitasnya paling besar\n",
    "df_sorted = df.sort_values(by=\"popularity\", ascending=False)"
   ]
  },
  {
   "cell_type": "code",
   "execution_count": 67,
   "id": "dc634312",
   "metadata": {},
   "outputs": [],
   "source": [
    "def recs_cloudy():\n",
    "    return df_sorted[df_sorted.beats_per_minute <= 110]"
   ]
  },
  {
   "cell_type": "code",
   "execution_count": 68,
   "id": "3a7c3f5f",
   "metadata": {},
   "outputs": [],
   "source": [
    "def recs_windy():\n",
    "    return df_sorted[(df_sorted.beats_per_minute >= 111) & (df_sorted.beats_per_minute <= 137)]"
   ]
  },
  {
   "cell_type": "code",
   "execution_count": 69,
   "id": "18967c0f",
   "metadata": {},
   "outputs": [],
   "source": [
    "def recs_rainy():\n",
    "    return df_sorted[(df_sorted.beats_per_minute >= 138) & (df_sorted.beats_per_minute <= 164)]"
   ]
  },
  {
   "cell_type": "code",
   "execution_count": 75,
   "id": "eb5d9aa7",
   "metadata": {},
   "outputs": [],
   "source": [
    "def recs_sunny():\n",
    "    return df_sorted[df_sorted.beats_per_minute >= 165]"
   ]
  },
  {
   "cell_type": "code",
   "execution_count": 85,
   "id": "2a290265",
   "metadata": {},
   "outputs": [],
   "source": [
    "def clean_input(weather):\n",
    "    return str.lower(weather).replace(\" \", \"\")"
   ]
  },
  {
   "cell_type": "code",
   "execution_count": 86,
   "id": "80fd3e5e",
   "metadata": {},
   "outputs": [
    {
     "data": {
      "text/plain": [
       "'rainy'"
      ]
     },
     "execution_count": 86,
     "metadata": {},
     "output_type": "execute_result"
    }
   ],
   "source": [
    "clean_input('RAi ny')\n"
   ]
  },
  {
   "cell_type": "code",
   "execution_count": 90,
   "id": "24916c15",
   "metadata": {},
   "outputs": [],
   "source": [
    "def get_recs(weather):\n",
    "    weather_cleaned = clean_input(weather)\n",
    "    if (weather_cleaned == 'sunny'):\n",
    "        return recs_sunny()\n",
    "    elif (weather_cleaned == 'windy'):\n",
    "        return recs_windy()\n",
    "    elif (weather_cleaned == 'cloudy'):\n",
    "        return recs_cloudy()\n",
    "    elif (weather_cleaned == 'rainy'):\n",
    "        return recs_rainy()\n",
    "    else:\n",
    "        return 'Silakan ulangi memasukkan cuaca.'"
   ]
  },
  {
   "cell_type": "code",
   "execution_count": 92,
   "id": "bc1f7e04",
   "metadata": {},
   "outputs": [
    {
     "data": {
      "text/html": [
       "<div>\n",
       "<style scoped>\n",
       "    .dataframe tbody tr th:only-of-type {\n",
       "        vertical-align: middle;\n",
       "    }\n",
       "\n",
       "    .dataframe tbody tr th {\n",
       "        vertical-align: top;\n",
       "    }\n",
       "\n",
       "    .dataframe thead th {\n",
       "        text-align: right;\n",
       "    }\n",
       "</style>\n",
       "<table border=\"1\" class=\"dataframe\">\n",
       "  <thead>\n",
       "    <tr style=\"text-align: right;\">\n",
       "      <th></th>\n",
       "      <th>id</th>\n",
       "      <th>track_name</th>\n",
       "      <th>artist_name</th>\n",
       "      <th>genre</th>\n",
       "      <th>beats_per_minute</th>\n",
       "      <th>energy</th>\n",
       "      <th>danceability</th>\n",
       "      <th>loudness_db</th>\n",
       "      <th>liveness</th>\n",
       "      <th>valence</th>\n",
       "      <th>length</th>\n",
       "      <th>acousticness</th>\n",
       "      <th>speechiness</th>\n",
       "      <th>popularity</th>\n",
       "    </tr>\n",
       "  </thead>\n",
       "  <tbody>\n",
       "    <tr>\n",
       "      <th>10</th>\n",
       "      <td>11</td>\n",
       "      <td>Callaita</td>\n",
       "      <td>Bad Bunny</td>\n",
       "      <td>reggaeton</td>\n",
       "      <td>176</td>\n",
       "      <td>62</td>\n",
       "      <td>61</td>\n",
       "      <td>-5</td>\n",
       "      <td>24</td>\n",
       "      <td>24</td>\n",
       "      <td>251</td>\n",
       "      <td>60</td>\n",
       "      <td>31</td>\n",
       "      <td>93</td>\n",
       "    </tr>\n",
       "    <tr>\n",
       "      <th>6</th>\n",
       "      <td>7</td>\n",
       "      <td>Ransom</td>\n",
       "      <td>Lil Tecca</td>\n",
       "      <td>trap music</td>\n",
       "      <td>180</td>\n",
       "      <td>64</td>\n",
       "      <td>75</td>\n",
       "      <td>-6</td>\n",
       "      <td>7</td>\n",
       "      <td>23</td>\n",
       "      <td>131</td>\n",
       "      <td>2</td>\n",
       "      <td>29</td>\n",
       "      <td>92</td>\n",
       "    </tr>\n",
       "    <tr>\n",
       "      <th>36</th>\n",
       "      <td>37</td>\n",
       "      <td>Otro Trago</td>\n",
       "      <td>Sech</td>\n",
       "      <td>panamanian pop</td>\n",
       "      <td>176</td>\n",
       "      <td>70</td>\n",
       "      <td>75</td>\n",
       "      <td>-5</td>\n",
       "      <td>11</td>\n",
       "      <td>62</td>\n",
       "      <td>226</td>\n",
       "      <td>14</td>\n",
       "      <td>34</td>\n",
       "      <td>91</td>\n",
       "    </tr>\n",
       "    <tr>\n",
       "      <th>16</th>\n",
       "      <td>17</td>\n",
       "      <td>LA CANCIÓN</td>\n",
       "      <td>J Balvin</td>\n",
       "      <td>latin</td>\n",
       "      <td>176</td>\n",
       "      <td>65</td>\n",
       "      <td>75</td>\n",
       "      <td>-6</td>\n",
       "      <td>11</td>\n",
       "      <td>43</td>\n",
       "      <td>243</td>\n",
       "      <td>15</td>\n",
       "      <td>32</td>\n",
       "      <td>90</td>\n",
       "    </tr>\n",
       "    <tr>\n",
       "      <th>46</th>\n",
       "      <td>47</td>\n",
       "      <td>Te Robaré</td>\n",
       "      <td>Nicky Jam</td>\n",
       "      <td>latin</td>\n",
       "      <td>176</td>\n",
       "      <td>75</td>\n",
       "      <td>67</td>\n",
       "      <td>-4</td>\n",
       "      <td>8</td>\n",
       "      <td>80</td>\n",
       "      <td>202</td>\n",
       "      <td>24</td>\n",
       "      <td>6</td>\n",
       "      <td>88</td>\n",
       "    </tr>\n",
       "    <tr>\n",
       "      <th>13</th>\n",
       "      <td>14</td>\n",
       "      <td>Otro Trago - Remix</td>\n",
       "      <td>Sech</td>\n",
       "      <td>panamanian pop</td>\n",
       "      <td>176</td>\n",
       "      <td>79</td>\n",
       "      <td>73</td>\n",
       "      <td>-2</td>\n",
       "      <td>6</td>\n",
       "      <td>76</td>\n",
       "      <td>288</td>\n",
       "      <td>7</td>\n",
       "      <td>20</td>\n",
       "      <td>87</td>\n",
       "    </tr>\n",
       "    <tr>\n",
       "      <th>2</th>\n",
       "      <td>3</td>\n",
       "      <td>boyfriend (with Social House)</td>\n",
       "      <td>Ariana Grande</td>\n",
       "      <td>dance pop</td>\n",
       "      <td>190</td>\n",
       "      <td>80</td>\n",
       "      <td>40</td>\n",
       "      <td>-4</td>\n",
       "      <td>16</td>\n",
       "      <td>70</td>\n",
       "      <td>186</td>\n",
       "      <td>12</td>\n",
       "      <td>46</td>\n",
       "      <td>85</td>\n",
       "    </tr>\n",
       "  </tbody>\n",
       "</table>\n",
       "</div>"
      ],
      "text/plain": [
       "    id                     track_name    artist_name           genre  \\\n",
       "10  11                       Callaita      Bad Bunny       reggaeton   \n",
       "6    7                         Ransom      Lil Tecca      trap music   \n",
       "36  37                     Otro Trago           Sech  panamanian pop   \n",
       "16  17                     LA CANCIÓN       J Balvin           latin   \n",
       "46  47                      Te Robaré      Nicky Jam           latin   \n",
       "13  14             Otro Trago - Remix           Sech  panamanian pop   \n",
       "2    3  boyfriend (with Social House)  Ariana Grande       dance pop   \n",
       "\n",
       "    beats_per_minute  energy  danceability  loudness_db  liveness  valence  \\\n",
       "10               176      62            61           -5        24       24   \n",
       "6                180      64            75           -6         7       23   \n",
       "36               176      70            75           -5        11       62   \n",
       "16               176      65            75           -6        11       43   \n",
       "46               176      75            67           -4         8       80   \n",
       "13               176      79            73           -2         6       76   \n",
       "2                190      80            40           -4        16       70   \n",
       "\n",
       "    length  acousticness  speechiness  popularity  \n",
       "10     251            60           31          93  \n",
       "6      131             2           29          92  \n",
       "36     226            14           34          91  \n",
       "16     243            15           32          90  \n",
       "46     202            24            6          88  \n",
       "13     288             7           20          87  \n",
       "2      186            12           46          85  "
      ]
     },
     "execution_count": 92,
     "metadata": {},
     "output_type": "execute_result"
    }
   ],
   "source": [
    "get_recs('sunny')"
   ]
  },
  {
   "cell_type": "code",
   "execution_count": null,
   "id": "3a3f3200",
   "metadata": {},
   "outputs": [],
   "source": []
  }
 ],
 "metadata": {
  "kernelspec": {
   "display_name": "Python 3 (ipykernel)",
   "language": "python",
   "name": "python3"
  },
  "language_info": {
   "codemirror_mode": {
    "name": "ipython",
    "version": 3
   },
   "file_extension": ".py",
   "mimetype": "text/x-python",
   "name": "python",
   "nbconvert_exporter": "python",
   "pygments_lexer": "ipython3",
   "version": "3.9.12"
  }
 },
 "nbformat": 4,
 "nbformat_minor": 5
}
